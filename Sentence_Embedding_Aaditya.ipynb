{
 "cells": [
  {
   "cell_type": "code",
   "execution_count": 4,
   "id": "d4a54692",
   "metadata": {},
   "outputs": [
    {
     "data": {
      "application/vnd.jupyter.widget-view+json": {
       "model_id": "f958154cbbb74ad8bf687b5d0e0f7c54",
       "version_major": 2,
       "version_minor": 0
      },
      "text/plain": [
       "Downloading (…)e9125/.gitattributes:   0%|          | 0.00/1.18k [00:00<?, ?B/s]"
      ]
     },
     "metadata": {},
     "output_type": "display_data"
    },
    {
     "data": {
      "application/vnd.jupyter.widget-view+json": {
       "model_id": "618425cdb43f4dfd988a69de5d5bb398",
       "version_major": 2,
       "version_minor": 0
      },
      "text/plain": [
       "Downloading (…)_Pooling/config.json:   0%|          | 0.00/190 [00:00<?, ?B/s]"
      ]
     },
     "metadata": {},
     "output_type": "display_data"
    },
    {
     "data": {
      "application/vnd.jupyter.widget-view+json": {
       "model_id": "0ff1ac1317d24ceaaa74d3b8e089f0fd",
       "version_major": 2,
       "version_minor": 0
      },
      "text/plain": [
       "Downloading (…)7e55de9125/README.md:   0%|          | 0.00/10.6k [00:00<?, ?B/s]"
      ]
     },
     "metadata": {},
     "output_type": "display_data"
    },
    {
     "data": {
      "application/vnd.jupyter.widget-view+json": {
       "model_id": "22ad0e4bf648416298f27a173168bdc1",
       "version_major": 2,
       "version_minor": 0
      },
      "text/plain": [
       "Downloading (…)55de9125/config.json:   0%|          | 0.00/612 [00:00<?, ?B/s]"
      ]
     },
     "metadata": {},
     "output_type": "display_data"
    },
    {
     "data": {
      "application/vnd.jupyter.widget-view+json": {
       "model_id": "7bb4459b4dbc4401ab6d50ac4fdca136",
       "version_major": 2,
       "version_minor": 0
      },
      "text/plain": [
       "Downloading (…)ce_transformers.json:   0%|          | 0.00/116 [00:00<?, ?B/s]"
      ]
     },
     "metadata": {},
     "output_type": "display_data"
    },
    {
     "data": {
      "application/vnd.jupyter.widget-view+json": {
       "model_id": "41cba256f559417f98fbadcd82600a85",
       "version_major": 2,
       "version_minor": 0
      },
      "text/plain": [
       "Downloading (…)125/data_config.json:   0%|          | 0.00/39.3k [00:00<?, ?B/s]"
      ]
     },
     "metadata": {},
     "output_type": "display_data"
    },
    {
     "data": {
      "application/vnd.jupyter.widget-view+json": {
       "model_id": "1ffa7ed6b99a4a1e8e0259393c7839fc",
       "version_major": 2,
       "version_minor": 0
      },
      "text/plain": [
       "Downloading pytorch_model.bin:   0%|          | 0.00/90.9M [00:00<?, ?B/s]"
      ]
     },
     "metadata": {},
     "output_type": "display_data"
    },
    {
     "data": {
      "application/vnd.jupyter.widget-view+json": {
       "model_id": "454d0b27a819428c8f46e9f964f2ffd0",
       "version_major": 2,
       "version_minor": 0
      },
      "text/plain": [
       "Downloading (…)nce_bert_config.json:   0%|          | 0.00/53.0 [00:00<?, ?B/s]"
      ]
     },
     "metadata": {},
     "output_type": "display_data"
    },
    {
     "data": {
      "application/vnd.jupyter.widget-view+json": {
       "model_id": "bbf136f1859b4f03bb90f6032906d8b6",
       "version_major": 2,
       "version_minor": 0
      },
      "text/plain": [
       "Downloading (…)cial_tokens_map.json:   0%|          | 0.00/112 [00:00<?, ?B/s]"
      ]
     },
     "metadata": {},
     "output_type": "display_data"
    },
    {
     "data": {
      "application/vnd.jupyter.widget-view+json": {
       "model_id": "0e7aba1351ef4a4d83b246caa70f3b93",
       "version_major": 2,
       "version_minor": 0
      },
      "text/plain": [
       "Downloading (…)e9125/tokenizer.json:   0%|          | 0.00/466k [00:00<?, ?B/s]"
      ]
     },
     "metadata": {},
     "output_type": "display_data"
    },
    {
     "data": {
      "application/vnd.jupyter.widget-view+json": {
       "model_id": "dafb58873d094c88a58576666fe7472a",
       "version_major": 2,
       "version_minor": 0
      },
      "text/plain": [
       "Downloading (…)okenizer_config.json:   0%|          | 0.00/350 [00:00<?, ?B/s]"
      ]
     },
     "metadata": {},
     "output_type": "display_data"
    },
    {
     "data": {
      "application/vnd.jupyter.widget-view+json": {
       "model_id": "55d2a8ad07da4598888d3bc6ae3e7fa3",
       "version_major": 2,
       "version_minor": 0
      },
      "text/plain": [
       "Downloading (…)9125/train_script.py:   0%|          | 0.00/13.2k [00:00<?, ?B/s]"
      ]
     },
     "metadata": {},
     "output_type": "display_data"
    },
    {
     "data": {
      "application/vnd.jupyter.widget-view+json": {
       "model_id": "d4eed76c3bf84a37a82c51cda8d5fa3a",
       "version_major": 2,
       "version_minor": 0
      },
      "text/plain": [
       "Downloading (…)7e55de9125/vocab.txt:   0%|          | 0.00/232k [00:00<?, ?B/s]"
      ]
     },
     "metadata": {},
     "output_type": "display_data"
    },
    {
     "data": {
      "application/vnd.jupyter.widget-view+json": {
       "model_id": "571d8a5c070548bbba0795141242f5c5",
       "version_major": 2,
       "version_minor": 0
      },
      "text/plain": [
       "Downloading (…)5de9125/modules.json:   0%|          | 0.00/349 [00:00<?, ?B/s]"
      ]
     },
     "metadata": {},
     "output_type": "display_data"
    }
   ],
   "source": [
    "from sentence_transformers import SentenceTransformer, util\n",
    "model = SentenceTransformer('all-MiniLM-L6-v2')"
   ]
  },
  {
   "cell_type": "code",
   "execution_count": 6,
   "id": "4c4e2ee1",
   "metadata": {},
   "outputs": [
    {
     "name": "stdout",
     "output_type": "stream",
     "text": [
      "Sentence:  ['this framework generates embeddings for each input sentence', 'Sentence are passed as a list of strings.']\n",
      "Embedding:  [-1.37173459e-02 -4.28515263e-02 -1.56286247e-02  1.40537536e-02\n",
      "  3.95537727e-02  1.21796325e-01  2.94333640e-02 -3.17523852e-02\n",
      "  3.54959480e-02 -7.93139860e-02  1.75878443e-02 -4.04369384e-02\n",
      "  4.97259498e-02  2.54912544e-02 -7.18700439e-02  8.14968571e-02\n",
      "  1.47069583e-03  4.79627103e-02 -4.50336039e-02 -9.92175341e-02\n",
      " -2.81769466e-02  6.45046085e-02  4.44670431e-02 -4.76216935e-02\n",
      " -3.52952629e-02  4.38671745e-02 -5.28565943e-02  4.33011563e-04\n",
      "  1.01921491e-01  1.64072290e-02  3.26996557e-02 -3.45986746e-02\n",
      "  1.21339597e-02  7.94871002e-02  4.58340580e-03  1.57778189e-02\n",
      " -9.68208816e-03  2.87625697e-02 -5.05805984e-02 -1.55793950e-02\n",
      " -2.87906844e-02 -9.62282252e-03  3.15556303e-02  2.27348972e-02\n",
      "  8.71449485e-02 -3.85027491e-02 -8.84718448e-02 -8.75498727e-03\n",
      " -2.12343019e-02  2.08923742e-02 -9.02077705e-02 -5.25732450e-02\n",
      " -1.05638448e-02  2.88311020e-02 -1.61455069e-02  6.17842888e-03\n",
      " -1.23234615e-02 -1.07337013e-02  2.83353925e-02 -5.28567508e-02\n",
      " -3.58618200e-02 -5.97989149e-02 -1.09055387e-02  2.91566588e-02\n",
      "  7.97979087e-02 -3.27868591e-04  6.83501037e-03  1.32718273e-02\n",
      " -4.24619652e-02  1.87656768e-02 -9.89234298e-02  2.09049843e-02\n",
      " -8.69605467e-02 -1.50152165e-02 -4.86202240e-02  8.04414675e-02\n",
      " -3.67700052e-03 -6.65044412e-02  1.14556760e-01 -3.04228794e-02\n",
      "  2.96631809e-02 -2.80695297e-02  4.64990251e-02 -2.25513801e-02\n",
      "  8.54222998e-02  3.15446891e-02  7.34541416e-02 -2.21862067e-02\n",
      " -5.29678762e-02  1.27130104e-02 -5.27339615e-02 -1.06188789e-01\n",
      "  7.04731569e-02  2.76736729e-02 -8.05531591e-02  2.39649378e-02\n",
      " -2.65124813e-02 -2.17330642e-02  4.35275547e-02  4.84711789e-02\n",
      " -2.37067193e-02  2.85767801e-02  1.11846134e-01 -6.34936020e-02\n",
      " -1.58318263e-02 -2.26169582e-02 -1.31027587e-02 -1.62071991e-03\n",
      " -3.60928923e-02 -9.78297070e-02 -4.67729047e-02  1.76271871e-02\n",
      " -3.97492461e-02 -1.76453308e-04  3.39627527e-02 -2.09633447e-02\n",
      "  6.33663731e-03 -2.59411316e-02  8.10410231e-02  6.14393353e-02\n",
      " -5.44594601e-03  6.48276061e-02 -1.16844095e-01  2.36860868e-02\n",
      " -1.32058822e-02 -1.12476468e-01  1.90049298e-02 -1.74659474e-34\n",
      "  5.58949970e-02  1.94244906e-02  4.65438738e-02  5.18645607e-02\n",
      "  3.89390588e-02  3.40541080e-02 -4.32114378e-02  7.90637061e-02\n",
      " -9.79530066e-02 -1.27441362e-02 -2.91870628e-02  1.02051981e-02\n",
      "  1.88115537e-02  1.08942538e-01  6.63465112e-02 -5.35295196e-02\n",
      " -3.29228677e-02  4.69827242e-02  2.28882935e-02  2.74114758e-02\n",
      " -2.91982945e-02  3.12706493e-02 -2.22850777e-02 -1.02282204e-01\n",
      " -2.79117078e-02  1.13793556e-02  9.06308442e-02 -4.75414395e-02\n",
      " -1.00718938e-01 -1.23232026e-02 -7.96928555e-02 -1.44636175e-02\n",
      " -7.76400790e-02 -7.66918808e-03  9.73954704e-03  2.24204548e-02\n",
      "  7.77268112e-02 -3.17159016e-03  2.11538207e-02 -3.30393985e-02\n",
      "  9.55245178e-03 -3.73011641e-02  2.61360556e-02 -9.79088247e-03\n",
      " -6.31505251e-02  5.77435084e-03 -3.80030796e-02  1.29684685e-02\n",
      " -1.82498973e-02 -1.56283118e-02 -1.23362627e-03  5.55579476e-02\n",
      "  1.13055787e-04 -5.61256669e-02  7.40165189e-02  1.84452031e-02\n",
      " -2.66368371e-02  1.31951738e-02  7.50086978e-02 -2.46796981e-02\n",
      " -3.24006155e-02 -1.57675017e-02 -8.03516526e-03 -5.61318453e-03\n",
      "  1.05687790e-02  3.26163857e-03 -3.91989797e-02 -9.38677490e-02\n",
      "  1.14227176e-01  6.57304600e-02 -4.72633652e-02  1.45087661e-02\n",
      " -3.54490578e-02 -3.37761492e-02 -5.15506119e-02 -3.81006091e-03\n",
      " -5.15036434e-02 -5.93429543e-02 -1.69415120e-03  7.42107704e-02\n",
      " -4.20091674e-02 -7.19974935e-02  3.17249782e-02 -1.66303441e-02\n",
      "  3.96985374e-03 -6.52750582e-02  2.77391095e-02 -7.51649216e-02\n",
      "  2.27456074e-02 -3.91368195e-02  1.54316127e-02 -5.54908291e-02\n",
      "  1.23318667e-02 -2.59520877e-02  6.66423365e-02 -6.91260152e-34\n",
      "  3.31628956e-02  8.47929120e-02 -6.65584058e-02  3.33541594e-02\n",
      "  4.71610529e-03  1.35361804e-02 -5.38694225e-02  9.20694247e-02\n",
      " -2.96876654e-02  3.16219665e-02 -2.37497278e-02  1.98771022e-02\n",
      "  1.03446223e-01 -9.06947330e-02  6.30625384e-03  1.42886452e-02\n",
      "  1.19293490e-02  6.43727183e-03  4.20104265e-02  1.25344219e-02\n",
      "  3.93019803e-02  5.35691492e-02 -4.30750065e-02  6.10432588e-02\n",
      " -5.39524917e-05  6.91682398e-02  1.05520058e-02  1.22111803e-02\n",
      " -7.23184645e-02  2.50469837e-02 -5.18371165e-02 -4.36561853e-02\n",
      " -6.71818703e-02  1.34828296e-02 -7.25888535e-02  7.04166992e-03\n",
      "  6.58939630e-02  1.08994804e-02 -2.60010571e-03  5.49969189e-02\n",
      "  5.06966710e-02  3.27948183e-02 -6.68832958e-02  6.45557567e-02\n",
      " -2.52076164e-02 -2.92572007e-02 -1.16696730e-01  3.24064493e-02\n",
      "  5.85858449e-02 -3.51756439e-02 -7.15240166e-02  2.24935859e-02\n",
      " -1.00786723e-01 -4.74545024e-02 -7.61962906e-02 -5.87166362e-02\n",
      "  4.21138331e-02 -7.47213587e-02  1.98468063e-02 -3.36506357e-03\n",
      " -5.29736467e-02  2.74729617e-02  3.45737040e-02 -6.11846782e-02\n",
      "  1.06364839e-01 -9.64119881e-02 -4.55944985e-02  1.51489694e-02\n",
      " -5.13528613e-03 -6.64447322e-02  4.31721583e-02 -1.10405525e-02\n",
      " -9.80246533e-03  7.53783211e-02 -1.49570815e-02 -4.80208471e-02\n",
      "  5.80726489e-02 -2.43896637e-02 -2.23137774e-02 -4.36992347e-02\n",
      "  5.12054078e-02 -3.28625850e-02  1.08763322e-01  6.08926788e-02\n",
      "  3.30792717e-03  5.53820059e-02  8.43201131e-02  1.27087291e-02\n",
      "  3.84465344e-02  6.52325973e-02 -2.94683687e-02  5.08005284e-02\n",
      " -2.09348109e-02  1.46135688e-01  2.25561447e-02 -1.77227761e-08\n",
      " -5.02672568e-02 -2.79259344e-04 -1.00328594e-01  2.42811255e-02\n",
      " -7.54043609e-02 -3.79139818e-02  3.96050178e-02  3.10079809e-02\n",
      " -9.05700121e-03 -6.50411770e-02  4.05452810e-02  4.83390130e-02\n",
      " -4.56962399e-02  4.76004463e-03  2.64364388e-03  9.35613960e-02\n",
      " -4.02599610e-02  3.27402353e-02  1.18298214e-02  5.54344654e-02\n",
      "  1.48052216e-01  7.21189082e-02  2.76941719e-04  1.68651324e-02\n",
      "  8.34884215e-03 -8.76157451e-03 -1.33649698e-02  6.14237338e-02\n",
      "  1.57167800e-02  6.94960579e-02  1.08621670e-02  6.08018115e-02\n",
      " -5.33421412e-02 -3.47924270e-02 -3.36272120e-02  6.93906620e-02\n",
      "  1.22987805e-02 -1.45237371e-01 -2.06971867e-03 -4.61132303e-02\n",
      "  3.72748147e-03 -5.59358019e-03 -1.00659840e-01 -4.45953384e-02\n",
      "  5.40921427e-02  4.98893578e-03  1.49534550e-02 -8.26059580e-02\n",
      "  6.26630932e-02 -5.01908455e-03 -4.81857732e-02 -3.53991352e-02\n",
      "  9.03388113e-03 -2.42337845e-02  5.66267148e-02  2.51528900e-02\n",
      " -1.70709025e-02 -1.24780005e-02  3.19518745e-02  1.38420770e-02\n",
      " -1.55814895e-02  1.00178257e-01  1.23657234e-01 -4.22967039e-02]\n",
      "\n",
      "Sentence:  ['this framework generates embeddings for each input sentence', 'Sentence are passed as a list of strings.']\n",
      "Embedding:  [ 5.83794750e-02  6.52546659e-02  2.64784135e-02  2.09081806e-02\n",
      " -3.81787196e-02  7.47360364e-02  1.18554883e-01  4.67534736e-03\n",
      " -2.26569697e-02 -8.19314551e-03  8.69425908e-02 -3.13322395e-02\n",
      "  3.93615710e-03 -2.93949097e-02  1.71873271e-02  5.46018593e-02\n",
      " -4.45199274e-02 -3.60446498e-02 -4.92891707e-02 -8.39478374e-02\n",
      "  8.88274461e-02  1.11977220e-01 -3.12508941e-02  1.11056734e-02\n",
      "  9.78938397e-03  6.16639517e-02 -5.91866225e-02 -3.04203741e-02\n",
      "  5.31331636e-02  2.10902616e-02 -7.21253976e-02 -2.93870568e-02\n",
      "  3.31898592e-02  7.07184076e-02  4.64612879e-02  5.22820726e-02\n",
      "  2.90675717e-03 -2.66547839e-04 -5.20295883e-03  1.66787952e-02\n",
      "  9.99041647e-03 -2.92654429e-02 -2.01763920e-02  3.46811414e-02\n",
      "  1.34585286e-02  1.98687389e-02 -7.72634372e-02  6.23618392e-03\n",
      " -2.26429030e-02 -7.52660036e-02 -1.13919079e-01 -5.52340271e-03\n",
      " -7.38042369e-02  4.05823290e-02 -2.34824531e-02 -3.84387281e-03\n",
      " -1.81239042e-02  3.38733988e-03  1.37683423e-02 -5.12641706e-02\n",
      " -5.69510311e-02 -5.59299141e-02 -6.52058125e-02  7.32793957e-02\n",
      "  1.64829865e-02 -5.35114184e-02  2.41659004e-02 -1.30401654e-02\n",
      " -4.34724130e-02  4.11320627e-02 -4.11894582e-02  5.16050421e-02\n",
      " -5.47818020e-02  3.50921415e-02 -2.31708698e-02  5.15600964e-02\n",
      "  5.19246086e-02 -6.27970099e-02  5.51057830e-02  1.16575798e-02\n",
      " -7.25982338e-02 -9.54084098e-02  1.28857940e-02 -2.08772290e-02\n",
      " -1.51242316e-02  1.83242410e-02 -3.47752608e-02 -3.28166485e-02\n",
      " -4.44239676e-02  5.47158793e-02 -2.95891520e-02 -1.50404260e-01\n",
      "  7.66533390e-02  1.64507776e-02 -1.06515912e-02  3.08013801e-02\n",
      " -3.72799970e-02 -2.61642169e-02  7.23784836e-03  3.31661291e-02\n",
      " -1.64027475e-02  9.87783074e-03  1.04898356e-01  6.78834447e-04\n",
      " -1.41748458e-01 -3.71219479e-02  5.29908799e-02 -8.49448889e-02\n",
      "  2.46753022e-02 -9.83929932e-02 -6.59055859e-02  1.43104140e-02\n",
      "  1.53274322e-02 -3.89136709e-02 -2.56506987e-02 -1.05138160e-02\n",
      " -3.52364616e-04  2.45423317e-02  3.36629748e-02  7.82283098e-02\n",
      "  3.99784409e-02  1.61634311e-02 -2.99064964e-02  1.57110635e-02\n",
      " -3.81287001e-02 -7.61372969e-02  7.72933150e-03 -5.16698974e-33\n",
      " -1.71560468e-03 -2.43862029e-02  1.62759852e-02 -2.82543758e-03\n",
      " -6.15873262e-02 -3.98285082e-03 -7.23326504e-02  9.98195540e-03\n",
      " -2.30754586e-03  1.11742876e-02 -3.86357717e-02 -7.67895728e-02\n",
      "  2.32421905e-02  5.56877814e-02  6.07342534e-02  1.25642512e-02\n",
      "  4.54138555e-02  3.42190377e-02  1.95587613e-02  2.89513799e-03\n",
      "  1.98240275e-03  6.66385889e-02  3.75677943e-02 -9.33001265e-02\n",
      " -8.56730342e-02 -4.63141315e-02  3.77218686e-02 -3.55409384e-02\n",
      " -3.99142653e-02  2.17221621e-02 -7.52104400e-03 -8.73143226e-02\n",
      "  3.89202731e-03  9.14962292e-02  4.20428962e-02  1.00662686e-01\n",
      "  1.81504190e-02 -1.07152406e-02  4.04061601e-02 -1.70770101e-02\n",
      " -8.27750564e-03 -2.58953106e-02  1.81313641e-02  4.40982655e-02\n",
      "  5.33451810e-02  4.02275909e-04 -7.05794170e-02  5.54489344e-02\n",
      "  4.03935239e-02  6.82157949e-02  2.40040515e-02  2.37325598e-02\n",
      " -3.43136452e-02  9.36431345e-03  7.70727023e-02  3.59265283e-02\n",
      " -2.52133552e-02  2.73874737e-02 -1.48190754e-02  7.75364488e-02\n",
      " -4.05501854e-03  8.99772495e-02  5.45397140e-02 -1.60453729e-02\n",
      "  6.45952448e-02  2.74806488e-02 -1.75454579e-02 -4.54107635e-02\n",
      "  8.28867927e-02  1.79354008e-02 -1.00839786e-01  2.21379800e-03\n",
      " -3.14943604e-02  8.32268223e-02 -3.68545316e-02  1.84688997e-02\n",
      " -1.02574723e-02 -9.37284678e-02  2.85377167e-02  2.58522909e-02\n",
      " -3.92113514e-02 -6.82981834e-02 -2.86103529e-03  1.16104633e-01\n",
      " -3.39150317e-02 -3.46644707e-02  5.47991991e-02 -1.20950587e-01\n",
      "  1.65001620e-02 -2.47711595e-02 -2.56802365e-02 -3.94866094e-02\n",
      " -1.35885803e-02 -4.29580137e-02  3.81372683e-02  5.18177792e-34\n",
      "  3.62131335e-02  6.85476959e-02 -8.24761167e-02  4.79473099e-02\n",
      "  3.64964567e-02 -3.74728814e-02  9.67815798e-03  6.25659898e-03\n",
      "  3.99003178e-02  1.59961581e-02 -9.07852799e-02  8.65814928e-03\n",
      " -3.96595560e-02 -5.67636453e-02  5.26214354e-02 -2.25237152e-03\n",
      "  2.86009279e-03  2.87303403e-02 -1.99502753e-03  5.50935697e-03\n",
      " -4.72831838e-02  1.28541961e-01 -4.38928455e-02  6.30316138e-02\n",
      " -1.81988422e-02  1.04155838e-02  9.88173857e-03 -6.81404844e-02\n",
      "  4.28953581e-03  3.38262543e-02  5.60363848e-03 -4.45925929e-02\n",
      " -1.87101010e-02  8.77283290e-02 -4.28233780e-02 -4.01767381e-02\n",
      "  1.28647402e-01  4.28782357e-03 -2.29035541e-02  3.69836763e-02\n",
      "  6.28204122e-02  2.77031492e-02  3.07457354e-02  4.23970670e-02\n",
      " -1.45708071e-02 -4.35210355e-02 -8.56537521e-02 -7.40538759e-04\n",
      " -1.07326210e-02  3.91544737e-02 -3.41789797e-02 -1.25451689e-03\n",
      " -6.95615858e-02 -4.92477603e-02 -3.55595648e-02  3.24625634e-02\n",
      " -5.42051829e-02 -5.41751944e-02  3.63870040e-02 -3.71715985e-02\n",
      " -1.03811346e-01  4.38484587e-02  5.44808321e-02 -7.14773014e-02\n",
      "  1.23003721e-01 -8.14171508e-02 -6.47863001e-02 -4.39058430e-03\n",
      " -3.09181698e-02 -1.17987320e-01  1.90958027e-02 -7.54736811e-02\n",
      " -1.32447809e-01 -6.51796488e-03 -7.10176751e-02 -8.23586956e-02\n",
      " -4.58231606e-02 -4.15035523e-02 -3.32783759e-02 -8.80199205e-03\n",
      "  7.33259320e-02 -2.62102280e-02  2.27014683e-02  4.58254293e-02\n",
      "  6.77038543e-03 -4.40754555e-02  3.01677827e-02  2.73281429e-02\n",
      "  5.14424965e-03  7.27579221e-02  4.86436440e-03 -1.25280144e-02\n",
      "  6.87113181e-02  8.57916325e-02 -3.17494497e-02 -2.01781720e-08\n",
      " -6.16973937e-02 -4.57263179e-02 -7.06228390e-02  3.21707949e-02\n",
      " -1.41687291e-02  3.23494785e-02 -1.74984634e-02 -3.73630337e-02\n",
      " -4.01825979e-02  7.58158183e-03  6.62832633e-02  2.35495642e-02\n",
      " -4.70094718e-02 -2.18681805e-02  3.27574387e-02  6.58829743e-03\n",
      " -3.09921857e-02  2.89918564e-04 -2.72538774e-02  4.20490131e-02\n",
      "  1.01459678e-02 -1.64596289e-02 -1.09618567e-01  1.35864569e-02\n",
      " -6.33070129e-04  3.84326540e-02 -1.18691083e-02  7.77757913e-02\n",
      " -2.87577335e-04  1.25982240e-01  1.06541403e-01  8.61919820e-02\n",
      "  6.16147416e-04 -6.19721860e-02 -3.08973975e-02  2.25539710e-02\n",
      "  5.08435182e-02 -9.69128907e-02  7.21699819e-02  4.64806706e-02\n",
      "  3.55318077e-02  3.96969132e-02 -9.73941311e-02  9.06196311e-02\n",
      "  5.64586073e-02 -7.96706825e-02 -1.75012499e-02 -2.12329216e-02\n",
      " -2.57713459e-02 -6.21381402e-02 -1.69596635e-02  1.89429801e-02\n",
      "  5.95318228e-02 -5.55363037e-02  2.76440140e-02  1.63614948e-03\n",
      "  2.33541876e-02 -4.92021702e-02 -1.34400688e-02 -3.29623483e-02\n",
      "  6.88107088e-02  5.29724285e-02  1.07469104e-01 -3.50804217e-02]\n",
      "\n"
     ]
    }
   ],
   "source": [
    "sentences = [\"this framework generates embeddings for each input sentence\", \n",
    "            \"Sentence are passed as a list of strings.\"]\n",
    "\n",
    "embeddings = model.encode(sentences)\n",
    "\n",
    "for sentences, embedding in zip(sentences, embeddings):\n",
    "    print(\"Sentence: \", sentence)\n",
    "    print(\"Embedding: \", embedding)\n",
    "    print(\"\")"
   ]
  },
  {
   "cell_type": "code",
   "execution_count": 16,
   "id": "ed005aa6",
   "metadata": {},
   "outputs": [
    {
     "name": "stdout",
     "output_type": "stream",
     "text": [
      "Cosine-Similarity:  tensor([[0.5398]])\n"
     ]
    }
   ],
   "source": [
    "emb1 = model.encode(\"I am eating Apple\")\n",
    "emb2 = model.encode(\"I like fruits\")\n",
    "cos_sim = util.cos_sim(emb1, emb2)\n",
    "print(\"Cosine-Similarity: \", cos_sim)"
   ]
  },
  {
   "cell_type": "code",
   "execution_count": 18,
   "id": "fdf64ed7",
   "metadata": {},
   "outputs": [
    {
     "data": {
      "text/plain": [
       "tensor([[ 1.0000,  0.7553, -0.1050,  0.2474, -0.0704, -0.0333,  0.1707,  0.0476,\n",
       "          0.0630],\n",
       "        [ 0.7553,  1.0000, -0.0610,  0.1442, -0.0809, -0.0216,  0.1157,  0.0362,\n",
       "          0.0216],\n",
       "        [-0.1050, -0.0610,  1.0000, -0.1088,  0.0217, -0.0413, -0.0928,  0.0231,\n",
       "          0.0247],\n",
       "        [ 0.2474,  0.1442, -0.1088,  1.0000, -0.0348,  0.0362,  0.7369,  0.0821,\n",
       "          0.1389],\n",
       "        [-0.0704, -0.0809,  0.0217, -0.0348,  1.0000, -0.1654, -0.0592,  0.1961,\n",
       "          0.2564],\n",
       "        [-0.0333, -0.0216, -0.0413,  0.0362, -0.1654,  1.0000,  0.0769, -0.0380,\n",
       "         -0.0895],\n",
       "        [ 0.1707,  0.1157, -0.0928,  0.7369, -0.0592,  0.0769,  1.0000,  0.0495,\n",
       "          0.1191],\n",
       "        [ 0.0476,  0.0362,  0.0231,  0.0821,  0.1961, -0.0380,  0.0495,  1.0000,\n",
       "          0.6433],\n",
       "        [ 0.0630,  0.0216,  0.0247,  0.1389,  0.2564, -0.0895,  0.1191,  0.6433,\n",
       "          1.0000]])"
      ]
     },
     "execution_count": 18,
     "metadata": {},
     "output_type": "execute_result"
    }
   ],
   "source": [
    "sentences = ['A man is eating food.',\n",
    "          'A man is eating a piece of bread.',\n",
    "          'The girl is carrying a baby.',\n",
    "          'A man is riding a horse.',\n",
    "          'A woman is playing violin.',\n",
    "          'Two men pushed carts through the woods.',\n",
    "          'A man is riding a white horse on an enclosed ground.',\n",
    "          'A monkey is playing drums.',\n",
    "          'Someone in a gorilla costume is playing a set of drums.'\n",
    "          ]\n",
    "\n",
    "embeddings = model.encode(sentences)\n",
    "\n",
    "cos_sim = util.cos_sim(embeddings, embeddings)\n",
    "\n",
    "cos_sim"
   ]
  },
  {
   "cell_type": "code",
   "execution_count": 21,
   "id": "22cb4efb",
   "metadata": {},
   "outputs": [
    {
     "data": {
      "text/plain": [
       "[(tensor(0.7553), 0, 1),\n",
       " (tensor(-0.1050), 0, 2),\n",
       " (tensor(0.2474), 0, 3),\n",
       " (tensor(-0.0704), 0, 4),\n",
       " (tensor(-0.0333), 0, 5),\n",
       " (tensor(0.1707), 0, 6),\n",
       " (tensor(0.0476), 0, 7),\n",
       " (tensor(0.0630), 0, 8),\n",
       " (tensor(-0.0610), 1, 2),\n",
       " (tensor(0.1442), 1, 3),\n",
       " (tensor(-0.0809), 1, 4),\n",
       " (tensor(-0.0216), 1, 5),\n",
       " (tensor(0.1157), 1, 6),\n",
       " (tensor(0.0362), 1, 7),\n",
       " (tensor(0.0216), 1, 8),\n",
       " (tensor(-0.1088), 2, 3),\n",
       " (tensor(0.0217), 2, 4),\n",
       " (tensor(-0.0413), 2, 5),\n",
       " (tensor(-0.0928), 2, 6),\n",
       " (tensor(0.0231), 2, 7),\n",
       " (tensor(0.0247), 2, 8),\n",
       " (tensor(-0.0348), 3, 4),\n",
       " (tensor(0.0362), 3, 5),\n",
       " (tensor(0.7369), 3, 6),\n",
       " (tensor(0.0821), 3, 7),\n",
       " (tensor(0.1389), 3, 8),\n",
       " (tensor(-0.1654), 4, 5),\n",
       " (tensor(-0.0592), 4, 6),\n",
       " (tensor(0.1961), 4, 7),\n",
       " (tensor(0.2564), 4, 8),\n",
       " (tensor(0.0769), 5, 6),\n",
       " (tensor(-0.0380), 5, 7),\n",
       " (tensor(-0.0895), 5, 8),\n",
       " (tensor(0.0495), 6, 7),\n",
       " (tensor(0.1191), 6, 8),\n",
       " (tensor(0.6433), 7, 8)]"
      ]
     },
     "execution_count": 21,
     "metadata": {},
     "output_type": "execute_result"
    }
   ],
   "source": [
    "all_sentence_combinations = []\n",
    "for i in range(len(cos_sim)-1):\n",
    "    for j in range(i+1, len(cos_sim)):\n",
    "        all_sentence_combinations.append((cos_sim[i][j], i, j))\n",
    "all_sentence_combinations"
   ]
  },
  {
   "cell_type": "code",
   "execution_count": 22,
   "id": "38db2842",
   "metadata": {},
   "outputs": [
    {
     "name": "stdout",
     "output_type": "stream",
     "text": [
      "Top-5 most similar pairs:\n",
      "A man is eating food. \t A man is eating a piece of bread. \t 0.7553\n",
      "A man is riding a horse. \t A man is riding a white horse on an enclosed ground. \t 0.7369\n",
      "A monkey is playing drums. \t Someone in a gorilla costume is playing a set of drums. \t 0.6433\n",
      "A woman is playing violin. \t Someone in a gorilla costume is playing a set of drums. \t 0.2564\n",
      "A man is eating food. \t A man is riding a horse. \t 0.2474\n"
     ]
    }
   ],
   "source": [
    "all_sentence_combinations = sorted(all_sentence_combinations, key=lambda x: x[0], reverse=True)\n",
    "\n",
    "print(\"Top-5 most similar pairs:\")\n",
    "for score, i, j in all_sentence_combinations[0:5]:\n",
    "    print(\"{} \\t {} \\t {:.4f}\".format(sentences[i], sentences[j], cos_sim[i][j]))"
   ]
  },
  {
   "cell_type": "code",
   "execution_count": 24,
   "id": "9f48a542",
   "metadata": {},
   "outputs": [
    {
     "data": {
      "application/vnd.jupyter.widget-view+json": {
       "model_id": "0e0fb9e326bf4565a97611917153c315",
       "version_major": 2,
       "version_minor": 0
      },
      "text/plain": [
       "Downloading tokenizer.json:   0%|          | 0.00/9.08M [00:00<?, ?B/s]"
      ]
     },
     "metadata": {},
     "output_type": "display_data"
    },
    {
     "data": {
      "application/vnd.jupyter.widget-view+json": {
       "model_id": "ec411259eab04e5ca39ab5af12264945",
       "version_major": 2,
       "version_minor": 0
      },
      "text/plain": [
       "Downloading (…)okenizer_config.json:   0%|          | 0.00/464 [00:00<?, ?B/s]"
      ]
     },
     "metadata": {},
     "output_type": "display_data"
    },
    {
     "data": {
      "application/vnd.jupyter.widget-view+json": {
       "model_id": "8edde00e0c814ecb9106f52d6cb3451b",
       "version_major": 2,
       "version_minor": 0
      },
      "text/plain": [
       "Downloading (…)50e35aa/modules.json:   0%|          | 0.00/229 [00:00<?, ?B/s]"
      ]
     },
     "metadata": {},
     "output_type": "display_data"
    },
    {
     "name": "stderr",
     "output_type": "stream",
     "text": [
      "c:\\users\\hp\\appdata\\local\\programs\\python\\python39\\lib\\site-packages\\transformers\\configuration_utils.py:381: UserWarning: Passing `gradient_checkpointing` to a config initialization is deprecated and will be removed in v5 Transformers. Using `model.gradient_checkpointing_enable()` instead, or if you are using the `Trainer` API, pass `gradient_checkpointing=True` in your `TrainingArguments`.\n",
      "  warnings.warn(\n"
     ]
    }
   ],
   "source": [
    "from sentence_transformers import SentenceTransformer, util\n",
    "model = SentenceTransformer('clips/mfaq')"
   ]
  },
  {
   "cell_type": "code",
   "execution_count": 25,
   "id": "f990832c",
   "metadata": {},
   "outputs": [
    {
     "name": "stdout",
     "output_type": "stream",
     "text": [
      "[[{'corpus_id': 0, 'score': 0.5507142543792725}, {'corpus_id': 2, 'score': 0.4993181824684143}, {'corpus_id': 1, 'score': 0.45967185497283936}]]\n"
     ]
    }
   ],
   "source": [
    "question = \"How many models can I host on HuggingFace?\"\n",
    "answer_1 = \"All plans come with unlimited private models and datasets.\"\n",
    "answer_2 = \"AutoNLP is an automatic way to train and deploy state-of-the-art NLP models, seamlessly integrated with the Hugging Face ecosystem.\"\n",
    "answer_3 = \"Based on how much training data and model variants are created, we send you a compute cost and payment link - as low as $10 per job.\"\n",
    "\n",
    "query_embedding = model.encode(question)\n",
    "corpus_embeddings = model.encode([answer_1, answer_2, answer_3])\n",
    "\n",
    "print(util.semantic_search(query_embedding, corpus_embeddings))"
   ]
  },
  {
   "cell_type": "code",
   "execution_count": 26,
   "id": "9a8de0d7",
   "metadata": {},
   "outputs": [],
   "source": [
    "from transformers import pipeline"
   ]
  },
  {
   "cell_type": "code",
   "execution_count": 27,
   "id": "bf930ab6",
   "metadata": {},
   "outputs": [
    {
     "name": "stderr",
     "output_type": "stream",
     "text": [
      "No model was supplied, defaulted to distilbert-base-cased-distilled-squad and revision 626af31 (https://huggingface.co/distilbert-base-cased-distilled-squad).\n",
      "Using a pipeline without specifying a model name and revision in production is not recommended.\n"
     ]
    },
    {
     "data": {
      "application/vnd.jupyter.widget-view+json": {
       "model_id": "133f7d735338491c93b18528829d67c3",
       "version_major": 2,
       "version_minor": 0
      },
      "text/plain": [
       "Downloading (…)lve/main/config.json:   0%|          | 0.00/473 [00:00<?, ?B/s]"
      ]
     },
     "metadata": {},
     "output_type": "display_data"
    },
    {
     "name": "stderr",
     "output_type": "stream",
     "text": [
      "c:\\users\\hp\\appdata\\local\\programs\\python\\python39\\lib\\site-packages\\huggingface_hub\\file_download.py:137: UserWarning: `huggingface_hub` cache-system uses symlinks by default to efficiently store duplicated files but your machine does not support them in C:\\Users\\hp\\.cache\\huggingface\\hub. Caching files will still work but in a degraded version that might require more space on your disk. This warning can be disabled by setting the `HF_HUB_DISABLE_SYMLINKS_WARNING` environment variable. For more details, see https://huggingface.co/docs/huggingface_hub/how-to-cache#limitations.\n",
      "To support symlinks on Windows, you either need to activate Developer Mode or to run Python as an administrator. In order to see activate developer mode, see this article: https://docs.microsoft.com/en-us/windows/apps/get-started/enable-your-device-for-development\n",
      "  warnings.warn(message)\n"
     ]
    },
    {
     "data": {
      "application/vnd.jupyter.widget-view+json": {
       "model_id": "b31fc2b4240744249a85101c6603ac3c",
       "version_major": 2,
       "version_minor": 0
      },
      "text/plain": [
       "Downloading model.safetensors:   0%|          | 0.00/261M [00:00<?, ?B/s]"
      ]
     },
     "metadata": {},
     "output_type": "display_data"
    },
    {
     "data": {
      "application/vnd.jupyter.widget-view+json": {
       "model_id": "1644c03638d544cb8e3a6a888a6ba1b9",
       "version_major": 2,
       "version_minor": 0
      },
      "text/plain": [
       "Downloading model.safetensors:   0%|          | 0.00/261M [00:00<?, ?B/s]"
      ]
     },
     "metadata": {},
     "output_type": "display_data"
    },
    {
     "data": {
      "application/vnd.jupyter.widget-view+json": {
       "model_id": "60f25fd48c434df69b85cf6b82bef475",
       "version_major": 2,
       "version_minor": 0
      },
      "text/plain": [
       "Downloading (…)okenizer_config.json:   0%|          | 0.00/29.0 [00:00<?, ?B/s]"
      ]
     },
     "metadata": {},
     "output_type": "display_data"
    },
    {
     "data": {
      "application/vnd.jupyter.widget-view+json": {
       "model_id": "03a8c1041b584bd29c34964849cac673",
       "version_major": 2,
       "version_minor": 0
      },
      "text/plain": [
       "Downloading (…)solve/main/vocab.txt:   0%|          | 0.00/213k [00:00<?, ?B/s]"
      ]
     },
     "metadata": {},
     "output_type": "display_data"
    },
    {
     "data": {
      "application/vnd.jupyter.widget-view+json": {
       "model_id": "891383723ef54f03bdf51cc4194bfa01",
       "version_major": 2,
       "version_minor": 0
      },
      "text/plain": [
       "Downloading (…)/main/tokenizer.json:   0%|          | 0.00/436k [00:00<?, ?B/s]"
      ]
     },
     "metadata": {},
     "output_type": "display_data"
    },
    {
     "data": {
      "text/plain": [
       "{'score': 0.7017176747322083, 'start': 20, 'end': 29, 'answer': 'unlimited'}"
      ]
     },
     "execution_count": 27,
     "metadata": {},
     "output_type": "execute_result"
    }
   ],
   "source": [
    "qa_model = pipeline(\"question-answering\")\n",
    "question = \"How many models can I host on HuggingFace?\"\n",
    "context = \"All plans come with unlimited private models and datasets.\"\n",
    "qa_model(question = question, context = context)"
   ]
  },
  {
   "cell_type": "code",
   "execution_count": 28,
   "id": "64ea3a93",
   "metadata": {},
   "outputs": [
    {
     "name": "stdout",
     "output_type": "stream",
     "text": [
      "[[{'corpus_id': 0, 'score': 0.5507142543792725}, {'corpus_id': 2, 'score': 0.4993181824684143}, {'corpus_id': 1, 'score': 0.45967185497283936}]]\n"
     ]
    }
   ],
   "source": [
    "print(util.semantic_search(query_embedding, corpus_embeddings))"
   ]
  },
  {
   "cell_type": "code",
   "execution_count": 30,
   "id": "47d16485",
   "metadata": {},
   "outputs": [],
   "source": [
    "from sklearn.cluster import KMeans\n",
    "import numpy as np\n",
    "\n",
    "embedder = SentenceTransformer('all-MiniLM-L6-v2')\n",
    "\n",
    "corpus = ['A man is eating food.',\n",
    "          'A man is eating a piece of bread.',\n",
    "          'Horse is eating grass.',\n",
    "          'A man is eating pasta.',\n",
    "          'A Woman is eating Biryani.',\n",
    "          'The girl is carrying a baby.',\n",
    "          'The baby is carried by the woman',\n",
    "          'A man is riding a horse.',\n",
    "          'A man is riding a white horse on an enclosed ground.',\n",
    "          'A monkey is playing drums.',\n",
    "          'Someone in a gorilla costume is playing a set of drums.',\n",
    "          'A cheetah is running behind its prey.',\n",
    "          'A cheetah chases prey on across a field.',\n",
    "          'The cheetah is chasing a man who is riding the horse.',\n",
    "          'man and women with their baby are watching cheetah in zoo'\n",
    "          ]\n",
    "corpus_embeddings = embedder.encode(corpus)\n",
    "\n",
    "corpus_embeddings = corpus_embeddings /  np.linalg.norm(corpus_embeddings, axis=1, keepdims=True)"
   ]
  },
  {
   "cell_type": "code",
   "execution_count": 31,
   "id": "1a768677",
   "metadata": {},
   "outputs": [
    {
     "name": "stderr",
     "output_type": "stream",
     "text": [
      "c:\\users\\hp\\appdata\\local\\programs\\python\\python39\\lib\\site-packages\\sklearn\\cluster\\_kmeans.py:1416: FutureWarning: The default value of `n_init` will change from 10 to 'auto' in 1.4. Set the value of `n_init` explicitly to suppress the warning\n",
      "  super()._check_params_vs_input(X, default_n_init=10)\n"
     ]
    },
    {
     "name": "stdout",
     "output_type": "stream",
     "text": [
      "[2 2 1 2 2 3 3 1 1 0 0 1 1 1 3]\n"
     ]
    }
   ],
   "source": [
    "clustering_model = KMeans(n_clusters=4)\n",
    "clustering_model.fit(corpus_embeddings)\n",
    "cluster_assignment = clustering_model.labels_\n",
    "print(cluster_assignment)"
   ]
  },
  {
   "cell_type": "code",
   "execution_count": 33,
   "id": "c3f27d55",
   "metadata": {},
   "outputs": [
    {
     "data": {
      "text/plain": [
       "{2: ['A man is eating food.',\n",
       "  'A man is eating a piece of bread.',\n",
       "  'A man is eating pasta.',\n",
       "  'A Woman is eating Biryani.'],\n",
       " 1: ['Horse is eating grass.',\n",
       "  'A man is riding a horse.',\n",
       "  'A man is riding a white horse on an enclosed ground.',\n",
       "  'A cheetah is running behind its prey.',\n",
       "  'A cheetah chases prey on across a field.',\n",
       "  'The cheetah is chasing a man who is riding the horse.'],\n",
       " 3: ['The girl is carrying a baby.',\n",
       "  'The baby is carried by the woman',\n",
       "  'man and women with their baby are watching cheetah in zoo'],\n",
       " 0: ['A monkey is playing drums.',\n",
       "  'Someone in a gorilla costume is playing a set of drums.']}"
      ]
     },
     "execution_count": 33,
     "metadata": {},
     "output_type": "execute_result"
    }
   ],
   "source": [
    "clustered_sentences = {}\n",
    "for sentence_id, cluster_id in enumerate(cluster_assignment):\n",
    "    if cluster_id not in clustered_sentences:\n",
    "        clustered_sentences[cluster_id] = []\n",
    "\n",
    "    clustered_sentences[cluster_id].append(corpus[sentence_id])\n",
    "clustered_sentences"
   ]
  }
 ],
 "metadata": {
  "kernelspec": {
   "display_name": "Python 3 (ipykernel)",
   "language": "python",
   "name": "python3"
  },
  "language_info": {
   "codemirror_mode": {
    "name": "ipython",
    "version": 3
   },
   "file_extension": ".py",
   "mimetype": "text/x-python",
   "name": "python",
   "nbconvert_exporter": "python",
   "pygments_lexer": "ipython3",
   "version": "3.9.5"
  }
 },
 "nbformat": 4,
 "nbformat_minor": 5
}
