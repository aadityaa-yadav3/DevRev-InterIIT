{
  "cells": [
    {
      "cell_type": "code",
      "execution_count": null,
      "id": "f8346189",
      "metadata": {
        "id": "f8346189"
      },
      "outputs": [],
      "source": [
        "import json"
      ]
    },
    {
      "cell_type": "code",
      "source": [
        "!pip install -U sentence_transformers"
      ],
      "metadata": {
        "id": "3Q7Dy1CaKbhv"
      },
      "id": "3Q7Dy1CaKbhv",
      "execution_count": null,
      "outputs": []
    },
    {
      "cell_type": "code",
      "execution_count": null,
      "id": "df406118",
      "metadata": {
        "id": "df406118"
      },
      "outputs": [],
      "source": [
        "from sentence_transformers import SentenceTransformer, util\n",
        "model = SentenceTransformer('all-MiniLM-L6-v2')"
      ]
    },
    {
      "cell_type": "markdown",
      "source": [
        "Reading the data form CSV **(DONT RUN)**\n",
        "\n"
      ],
      "metadata": {
        "id": "tBGxx7TnRLnG"
      },
      "id": "tBGxx7TnRLnG"
    },
    {
      "cell_type": "code",
      "source": [
        "file = open(\"tools_dictionary.json\")\n",
        "data = json.load(file)"
      ],
      "metadata": {
        "id": "t7KPI7u8RDxm"
      },
      "id": "t7KPI7u8RDxm",
      "execution_count": null,
      "outputs": []
    },
    {
      "cell_type": "markdown",
      "source": [
        "DATA CSV **(RUN THIS INSTEAD)**"
      ],
      "metadata": {
        "id": "_vxQbAsWRUN8"
      },
      "id": "_vxQbAsWRUN8"
    },
    {
      "cell_type": "code",
      "source": [
        "data = {\n",
        "  \"create_actionable_tasks_from_text\": {\n",
        "    \"Description\": \"Given a text, extracts actionable insights, and creates tasks for them, which are kind of a work item.\",\n",
        "    \"ArgumentName\": {\n",
        "      \"text\": {\n",
        "        \"Description\": \"The text from which the actionable insights need to be created.\",\n",
        "        \"ArgumentType\": \"string\"\n",
        "      }\n",
        "    }\n",
        "  },\n",
        "  \"get_similar_work_items\": {\n",
        "    \"Description\": \"Returns a list of work items that are similar to the given work item\",\n",
        "    \"ArgumentName\": {\n",
        "      \"work_id\": {\n",
        "        \"Description\": \"The ID of the work item for which you want to find similar items\",\n",
        "        \"ArgumentType\": \"string\"\n",
        "      }\n",
        "    }\n",
        "  },\n",
        "  \"get_sprint_id\": {\n",
        "    \"Description\": \"Returns the ID of the current sprint\",\n",
        "    \"ArgumentName\": {\n",
        "      \"_\": {\n",
        "        \"Description\":\"_\",\n",
        "        \"ArgumentType\":\"_\"\n",
        "      }\n",
        "    }\n",
        "  },\n",
        "  \"prioritize_objects\": {\n",
        "    \"Description\": \"Returns a list of objects sorted by priority. The logic of what constitutes priority for a given object is an internal implementation detail.\",\n",
        "    \"ArgumentName\": {\n",
        "      \"objects\": {\n",
        "        \"Description\": \"A list of objects to be prioritized\",\n",
        "        \"ArgumentType\": \"array of objects\"\n",
        "      }\n",
        "    }\n",
        "  },\n",
        "  \"search_object_by_name\": {\n",
        "    \"Description\": \"Given a search string, returns the id of a matching object in the system of record. If multiple matches are found, it returns the one where the confidence is highest.\",\n",
        "    \"ArgumentName\": {\n",
        "      \"query\": {\n",
        "        \"Description\": \"The search string, could be for example customer\\u2019s name, part name, user name.\",\n",
        "        \"ArgumentType\": \"string\"\n",
        "      }\n",
        "    }\n",
        "  },\n",
        "  \"summarize_objects\": {\n",
        "    \"Description\": \"Summarizes a list of objects. The logic of how to summarize a particular object type is an internal\\nimplementation\\ndetail.\",\n",
        "    \"ArgumentName\": {\n",
        "      \"objects\": {\n",
        "        \"Description\": \"List of objects to summarize\",\n",
        "        \"ArgumentType\": \"array of objects\"\n",
        "      }\n",
        "    }\n",
        "  },\n",
        "  \"who_am_i\": {\n",
        "    \"Description\": \"Returns the ID of the current user\",\n",
        "    \"ArgumentName\": {\n",
        "      \"_\": {\n",
        "        \"Description\":\"_\",\n",
        "        \"ArgumentType\":\"_\"\n",
        "      }\n",
        "    }\n",
        "  },\n",
        "  \"works_list\": {\n",
        "    \"Description\": \"Returns a list of work items matching the request\",\n",
        "    \"ArgumentName\": {\n",
        "      \"applies_to_part\": {\n",
        "        \"Description\": \"Filters for work belonging to any of the provided parts\",\n",
        "        \"ArgumentType\": \"array of strings\"\n",
        "      },\n",
        "      \"created_by\": {\n",
        "        \"Description\": \"Filters for work created by any of these users\",\n",
        "        \"ArgumentType\": \"array of strings\"\n",
        "      },\n",
        "      \"issue.priority\": {\n",
        "        \"Description\": \"Filters for issues with any of the provided priorities. Allowed values: p0, p1, p2,  p3\",\n",
        "        \"ArgumentType\": \"array of strings\"\n",
        "      },\n",
        "      \"issue.rev_orgs\": {\n",
        "        \"Description\": \"Filters for issues with any of the provided Rev organizations\",\n",
        "        \"ArgumentType\": \"array of strings\"\n",
        "      },\n",
        "      \"limit\": {\n",
        "        \"Description\": \"The maximum number of works to return. The default is '50'\",\n",
        "        \"ArgumentType\": \"integer (int32)\"\n",
        "      },\n",
        "      \"owned_by\": {\n",
        "        \"Description\": \"Filters for work owned by any of these users\",\n",
        "        \"ArgumentType\": \"array of strings\"\n",
        "      },\n",
        "      \"stage.name\": {\n",
        "        \"Description\": \"Filters for records in the provided stage(s) by name\",\n",
        "        \"ArgumentType\": \"array of strings\"\n",
        "      },\n",
        "      \"ticket.needs_response\": {\n",
        "        \"Description\": \"Filters for tickets that need a response\",\n",
        "        \"ArgumentType\": \"boolean\"\n",
        "      },\n",
        "      \"ticket.rev_org\": {\n",
        "        \"Description\": \"Filters for tickets associated with any of the provided Rev organizations\",\n",
        "        \"ArgumentType\": \"array of strings\"\n",
        "      },\n",
        "      \"ticket.severity\": {\n",
        "        \"Description\": \"Filters for tickets with any of the provided severities. Allowed\",\n",
        "        \"ArgumentType\": \"array of strings\"\n",
        "      },\n",
        "      \"_\": {\n",
        "        \"Description\": \"values: blocker, high, low, medium\",\n",
        "        \"ArgumentType\":\"_\"\n",
        "      },\n",
        "      \"ticket.source_channel\": {\n",
        "        \"Description\": \"Filters for tickets with any of the provided source channels\",\n",
        "        \"ArgumentType\": \"array of strings\"\n",
        "      },\n",
        "      \"type\": {\n",
        "        \"Description\": \"Filters for work of the provided types. Allowed values: issue, ticket, task\",\n",
        "        \"ArgumentType\": \"array of strings\"\n",
        "      }\n",
        "    }\n",
        "  },\n",
        "  \"add_work_items_to_sprint\": {\n",
        "    \"Description\": \"Adds the given work items to the sprint\",\n",
        "    \"ArgumentName\": {\n",
        "      \"work_ids\": {\n",
        "        \"Description\": \"A list of work item IDs to be added to the sprint.\",\n",
        "        \"ArgumentType\": \"array of strings\"\n",
        "      },\n",
        "      \"sprint_id\": {\n",
        "        \"Description\": \"The ID of the sprint to which the work items should be added\",\n",
        "        \"ArgumentType\": \"str\"\n",
        "      }\n",
        "    }\n",
        "  }\n",
        "}"
      ],
      "metadata": {
        "id": "MBW8EUBJRWb6"
      },
      "id": "MBW8EUBJRWb6",
      "execution_count": null,
      "outputs": []
    },
    {
      "cell_type": "markdown",
      "source": [
        "Extracting Argument Descriptions"
      ],
      "metadata": {
        "id": "y16Q_rqbSY2V"
      },
      "id": "y16Q_rqbSY2V"
    },
    {
      "cell_type": "code",
      "execution_count": null,
      "id": "8ae8645a",
      "metadata": {
        "scrolled": false,
        "id": "8ae8645a",
        "colab": {
          "base_uri": "https://localhost:8080/"
        },
        "outputId": "e5f207fa-cc9b-469d-a347-645eb0933575"
      },
      "outputs": [
        {
          "output_type": "stream",
          "name": "stdout",
          "text": [
            "The text from which the actionable insights need to be created.\n",
            "The ID of the work item for which you want to find similar items\n",
            "Returns the ID of the current sprint\n",
            "A list of objects to be prioritized\n",
            "The search string, could be for example customer’s name, part name, user name.\n",
            "List of objects to summarize\n",
            "Returns the ID of the current user\n",
            "Filters for work belonging to any of the provided parts\n",
            "Filters for work created by any of these users\n",
            "Filters for issues with any of the provided priorities. Allowed values: p0, p1, p2,  p3\n",
            "Filters for issues with any of the provided Rev organizations\n",
            "The maximum number of works to return. The default is '50'\n",
            "Filters for work owned by any of these users\n",
            "Filters for records in the provided stage(s) by name\n",
            "Filters for tickets that need a response\n",
            "Filters for tickets associated with any of the provided Rev organizations\n",
            "Filters for tickets with any of the provided severities. Allowed\n",
            "values: blocker, high, low, medium\n",
            "Filters for tickets with any of the provided source channels\n",
            "Filters for work of the provided types. Allowed values: issue, ticket, task\n",
            "A list of work item IDs to be added to the sprint.\n",
            "The ID of the sprint to which the work items should be added\n"
          ]
        }
      ],
      "source": [
        "tools = []\n",
        "tool_descriptions = []\n",
        "arg_names = []\n",
        "arg_descriptions = []\n",
        "\n",
        "for key, value in data.items():\n",
        "    tmp_tool = key\n",
        "    tools.append(tmp_tool)\n",
        "    tmp_tool_dsc = value.get(\"Description\")\n",
        "    tool_descriptions.append(tmp_tool_dsc)\n",
        "    tmp_arg_dsc = value.get(\"ArgumentName\")\n",
        "    for argName, argDesc in tmp_arg_dsc.items():\n",
        "        if (argDesc.get(\"Description\") == \"_\"):\n",
        "            arg_names.append(key)\n",
        "            arg_descriptions.append(tmp_tool_dsc)\n",
        "        else:\n",
        "            arg_names.append(argName)\n",
        "            arg_descriptions.append(argDesc.get(\"Description\"))\n",
        "\n",
        "arguments = {arg_names[i]: arg_descriptions[i] for i in range(len(arg_names))}\n",
        "\n",
        "print(*arg_descriptions, sep = \"\\n\")\n",
        "# print(arguments)"
      ]
    },
    {
      "cell_type": "markdown",
      "source": [
        "Encoding All Desciptions and findng maximum Similarity"
      ],
      "metadata": {
        "id": "3KnqRk8JScfV"
      },
      "id": "3KnqRk8JScfV"
    },
    {
      "cell_type": "code",
      "execution_count": null,
      "id": "426168a7",
      "metadata": {
        "scrolled": true,
        "id": "426168a7",
        "colab": {
          "base_uri": "https://localhost:8080/"
        },
        "outputId": "597e89cf-617f-49de-af4f-59ba43945e72"
      },
      "outputs": [
        {
          "output_type": "stream",
          "name": "stdout",
          "text": [
            "Query Entered: \t\t Priority List\n",
            "Tool Name: \t\t prioritize_objects\n",
            "Argument Name: \t\t objects\n",
            "Argument Description: \t A list of objects to be prioritized\n"
          ]
        }
      ],
      "source": [
        "query = \"Priority List\"\n",
        "argEncodings = model.encode(arg_descriptions)\n",
        "queryEncoding = model.encode(query)\n",
        "\n",
        "CosineSimilarity = util.cos_sim(argEncodings, queryEncoding)\n",
        "\n",
        "Optimal_Answer  = int(CosineSimilarity.argmax())\n",
        "\n",
        "answer_argument_description = arg_descriptions[Optimal_Answer]\n",
        "\n",
        "answer_argument_name = \"\"\n",
        "\n",
        "answer_tool = \"\"\n",
        "\n",
        "for key, value in data.items():\n",
        "    tmp_arg_dsc = value.get(\"ArgumentName\")\n",
        "    for argName, argDesc in tmp_arg_dsc.items():\n",
        "        if (argDesc.get(\"Description\") == answer_argument_description):\n",
        "            answer_tool = key\n",
        "            answer_argument_name = argName\n",
        "        elif (argDesc.get(\"Description\") == '_' and value.get(\"Description\") == answer_argument_description):\n",
        "            answer_tool = key\n",
        "            answer_argument_name = key\n",
        "\n",
        "print(\"Query Entered: \\t\\t\", query)\n",
        "\n",
        "print(\"Tool Name: \\t\\t\",answer_tool)\n",
        "\n",
        "print(\"Argument Name: \\t\\t\", answer_argument_name)\n",
        "\n",
        "print(\"Argument Description: \\t\", answer_argument_description)\n"
      ]
    }
  ],
  "metadata": {
    "kernelspec": {
      "display_name": "Python 3 (ipykernel)",
      "language": "python",
      "name": "python3"
    },
    "language_info": {
      "codemirror_mode": {
        "name": "ipython",
        "version": 3
      },
      "file_extension": ".py",
      "mimetype": "text/x-python",
      "name": "python",
      "nbconvert_exporter": "python",
      "pygments_lexer": "ipython3",
      "version": "3.9.5"
    },
    "colab": {
      "provenance": []
    }
  },
  "nbformat": 4,
  "nbformat_minor": 5
}