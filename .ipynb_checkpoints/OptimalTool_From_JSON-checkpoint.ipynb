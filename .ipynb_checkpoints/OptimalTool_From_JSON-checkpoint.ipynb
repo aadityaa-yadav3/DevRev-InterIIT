{
 "cells": [
  {
   "cell_type": "code",
   "execution_count": 1,
   "id": "f8346189",
   "metadata": {},
   "outputs": [],
   "source": [
    "import json"
   ]
  },
  {
   "cell_type": "code",
   "execution_count": 2,
   "id": "df406118",
   "metadata": {},
   "outputs": [],
   "source": [
    "from sentence_transformers import SentenceTransformer, util\n",
    "model = SentenceTransformer('all-MiniLM-L6-v2')"
   ]
  },
  {
   "cell_type": "code",
   "execution_count": 3,
   "id": "8ae8645a",
   "metadata": {
    "scrolled": false
   },
   "outputs": [
    {
     "name": "stdout",
     "output_type": "stream",
     "text": [
      "The text from which the actionable insights need to be created.\n",
      "The ID of the work item for which you want to find similar items\n",
      "Returns the ID of the current sprint\n",
      "A list of objects to be prioritized\n",
      "The search string, could be for example customer’s name, part name, user name.\n",
      "List of objects to summarize\n",
      "Returns the ID of the current user\n",
      "Filters for work belonging to any of the provided parts\n",
      "Filters for work created by any of these users\n",
      "Filters for issues with any of the provided priorities. Allowed values: p0, p1, p2,  p3\n",
      "Filters for issues with any of the provided Rev organizations\n",
      "The maximum number of works to return. The default is '50'\n",
      "Filters for work owned by any of these users\n",
      "Filters for records in the provided stage(s) by name\n",
      "Filters for tickets that need a response\n",
      "Filters for tickets associated with any of the provided Rev organizations\n",
      "Filters for tickets with any of the provided severities. Allowed\n",
      "values: blocker, high, low, medium\n",
      "Filters for tickets with any of the provided source channels\n",
      "Filters for work of the provided types. Allowed values: issue, ticket, task\n",
      "A list of work item IDs to be added to the sprint.\n",
      "The ID of the sprint to which the work items should be added\n"
     ]
    }
   ],
   "source": [
    "file = open(\"tools_dictionary.json\")\n",
    "data = json.load(file)\n",
    "\n",
    "tools = []\n",
    "tool_descriptions = []\n",
    "arg_names = []\n",
    "arg_descriptions = []\n",
    "\n",
    "for key, value in data.items():\n",
    "    tmp_tool = key\n",
    "    tools.append(tmp_tool)\n",
    "    tmp_tool_dsc = value.get(\"Description\")\n",
    "    tool_descriptions.append(tmp_tool_dsc)\n",
    "    tmp_arg_dsc = value.get(\"ArgumentName\")\n",
    "    for argName, argDesc in tmp_arg_dsc.items():\n",
    "        if (argDesc.get(\"Description\") == \"_\"):\n",
    "            arg_names.append(key)\n",
    "            arg_descriptions.append(tmp_tool_dsc)\n",
    "        else:\n",
    "            arg_names.append(argName)\n",
    "            arg_descriptions.append(argDesc.get(\"Description\"))\n",
    "        \n",
    "arguments = {arg_names[i]: arg_descriptions[i] for i in range(len(arg_names))}\n",
    "        \n",
    "print(*arg_descriptions, sep = \"\\n\")\n",
    "# print(arguments)"
   ]
  },
  {
   "cell_type": "code",
   "execution_count": 7,
   "id": "426168a7",
   "metadata": {
    "scrolled": true
   },
   "outputs": [
    {
     "name": "stdout",
     "output_type": "stream",
     "text": [
      "Query Entered: \t\t What is my ID\n",
      "Tool Name: \t\t who_am_i\n",
      "Argument Name: \t\t who_am_i\n",
      "Argument Description: \t Returns the ID of the current user\n"
     ]
    }
   ],
   "source": [
    "query = \"What is my ID\"\n",
    "argEncodings = model.encode(arg_descriptions)\n",
    "queryEncoding = model.encode(query)\n",
    "\n",
    "CosineSimilarity = util.cos_sim(argEncodings, queryEncoding)\n",
    "\n",
    "Optimal_Answer  = int(CosineSimilarity.argmax())\n",
    "\n",
    "answer_argument_description = arg_descriptions[Optimal_Answer]\n",
    "\n",
    "answer_argument_name = \"\"\n",
    "\n",
    "answer_tool = \"\"\n",
    "\n",
    "for key, value in data.items():\n",
    "    tmp_arg_dsc = value.get(\"ArgumentName\")\n",
    "    for argName, argDesc in tmp_arg_dsc.items():\n",
    "        if (argDesc.get(\"Description\") == answer_argument_description):\n",
    "            answer_tool = key\n",
    "            answer_argument_name = argName\n",
    "        elif (argDesc.get(\"Description\") == \"_\" and value.get(\"Description\") == answer_argument_description):\n",
    "            answer_tool = key\n",
    "            answer_argument_name = key\n",
    "\n",
    "print(\"Query Entered: \\t\\t\", query)\n",
    "\n",
    "print(\"Tool Name: \\t\\t\",answer_tool)\n",
    "\n",
    "print(\"Argument Name: \\t\\t\", answer_argument_name)\n",
    "\n",
    "print(\"Argument Description: \\t\", answer_argument_description)\n"
   ]
  },
  {
   "cell_type": "code",
   "execution_count": null,
   "id": "4b5f6d11",
   "metadata": {},
   "outputs": [],
   "source": []
  }
 ],
 "metadata": {
  "kernelspec": {
   "display_name": "Python 3 (ipykernel)",
   "language": "python",
   "name": "python3"
  },
  "language_info": {
   "codemirror_mode": {
    "name": "ipython",
    "version": 3
   },
   "file_extension": ".py",
   "mimetype": "text/x-python",
   "name": "python",
   "nbconvert_exporter": "python",
   "pygments_lexer": "ipython3",
   "version": "3.9.5"
  }
 },
 "nbformat": 4,
 "nbformat_minor": 5
}
